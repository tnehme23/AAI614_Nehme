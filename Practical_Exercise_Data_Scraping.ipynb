{
  "nbformat": 4,
  "nbformat_minor": 0,
  "metadata": {
    "colab": {
      "provenance": [],
      "authorship_tag": "ABX9TyNNWL2faCKnOA8CRVMRW4T5",
      "include_colab_link": true
    },
    "kernelspec": {
      "name": "python3",
      "display_name": "Python 3"
    },
    "language_info": {
      "name": "python"
    }
  },
  "cells": [
    {
      "cell_type": "markdown",
      "metadata": {
        "id": "view-in-github",
        "colab_type": "text"
      },
      "source": [
        "<a href=\"https://colab.research.google.com/github/tnehme23/AAI614_Nehme/blob/main/Practical_Exercise_Data_Scraping.ipynb\" target=\"_parent\"><img src=\"https://colab.research.google.com/assets/colab-badge.svg\" alt=\"Open In Colab\"/></a>"
      ]
    },
    {
      "cell_type": "code",
      "execution_count": 1,
      "metadata": {
        "id": "yozb_e84p_KV"
      },
      "outputs": [],
      "source": [
        "from urllib.request import urlopen\n",
        "from bs4 import BeautifulSoup\n",
        "import pandas as pd\n",
        "import re\n",
        "\n",
        "#we initialize a function scrape_table(url) that take the page url as parameter and return the pandas dataframe\n",
        "def scrape_table(url):\n",
        "    #we will first open the link and get the html content\n",
        "    html = urlopen(url)\n",
        "    # parsing the html content using beautifulSoup\n",
        "    soup = BeautifulSoup(html, 'html.parser')\n",
        "    try:\n",
        "        #first we find all tables on the page\n",
        "        tables = soup.find_all('table')\n",
        "        # checking if table 2 is on the page\n",
        "        if len(tables) < 2:\n",
        "            print(\"Table 2 not found on this page.\")\n",
        "            return None\n",
        "        #As we knoe that table 2 is the second table on the page after checking the page ourselves\n",
        "        table = tables[1]\n",
        "        #now we extract all headers from the table\n",
        "        #th stands for table headers in html\n",
        "        headers = [header.get_text(strip=True) for header in table.find_all('th')]\n",
        "        #we initialize an empty list to store all rows\n",
        "        rows = []\n",
        "        #we start a loop to go through each row in the table (without the header)\n",
        "        for row in table.find_all('tr')[1:]:\n",
        "            #extracting the text from each cell td or th in the row\n",
        "            cols = [col.get_text(strip=True) for col in row.find_all(['td', 'th'])]\n",
        "            # only add the row if it matches the number of headers\n",
        "            if len(cols) == len(headers):\n",
        "                rows.append(cols)\n",
        "        #now we create a pandas dataframe from the extracted rows and headers\n",
        "        df = pd.DataFrame(rows, columns=headers)\n",
        "        #return the DataFrame\n",
        "        return df\n",
        "    except AttributeError:\n",
        "        #we need to handle the case where the table or its elements are not found because it gave an error\n",
        "        print(\"The table or required elements are missing!\")\n",
        "        return None"
      ]
    },
    {
      "cell_type": "code",
      "source": [
        "url = 'https://www.canada.ca/en/public-health/services/surveillance/respiratory-virus-detections-canada/2018-2019/respiratory-virus-detections-isolations-week-01-ending-january-5-2019.html'\n",
        "#calling the function and get the DataFrame\n",
        "flu_data = scrape_table(url)\n",
        "#checking  if thedata was successfully scraped\n",
        "if flu_data is not None:\n",
        "    #display the first few rows of the dataframe\n",
        "    print(flu_data.head())\n",
        "else:\n",
        "    print(\"Failed to scrape the data.\")"
      ],
      "metadata": {
        "colab": {
          "base_uri": "https://localhost:8080/"
        },
        "id": "NRPEvFeiqB2i",
        "outputId": "d56a5cf0-3422-4381-8e3d-5858690e9a90"
      },
      "execution_count": 2,
      "outputs": [
        {
          "output_type": "stream",
          "name": "stdout",
          "text": [
            "   Reporting Laboratory Flu Tested A(H1N1)pdm09 Positive A(H3) Positive  \\\n",
            "0          Newfoundland       1299                     1              0   \n",
            "1  Prince Edward Island        307                    38              0   \n",
            "2           Nova Scotia        864                     0              0   \n",
            "3         New Brunswick       4271                    42              1   \n",
            "4              Atlantic       6741                    81              1   \n",
            "\n",
            "  A(UnS) Positive Total Flu A Positive Total Flu B Positive RSV Tested  \\\n",
            "0             113                  114                    1       1299   \n",
            "1               0                   38                    0        305   \n",
            "2              52                   52                    1        869   \n",
            "3             715                  758                    2       4274   \n",
            "4             880                  962                    4       6747   \n",
            "\n",
            "  RSV Positive PIV Tested  ... PIV 4 Positive Other PIV Positive Adeno Tested  \\\n",
            "0           91       1299  ...              0                  0         1299   \n",
            "1            5         53  ...              3                  0           48   \n",
            "2           45        322  ...              1                  0          322   \n",
            "3          131       1185  ...             29                  0         1185   \n",
            "4          272       2859  ...             33                  0         2854   \n",
            "\n",
            "  Adeno Positive hMPV Tested hMPV Positive Entero/Rhino Tested  \\\n",
            "0             12        1299             8                1299   \n",
            "1              5          48             0                  48   \n",
            "2              0         322             3                 322   \n",
            "3             84        1185             7                1185   \n",
            "4            101        2854            18                2854   \n",
            "\n",
            "  Entero/Rhino Positive Coron Tested Coron Positive  \n",
            "0                   200         N.A.           N.A.  \n",
            "1                    21           48              0  \n",
            "2                    53          322              1  \n",
            "3                   201         1185              6  \n",
            "4                   475         1555              7  \n",
            "\n",
            "[5 rows x 23 columns]\n"
          ]
        }
      ]
    }
  ]
}